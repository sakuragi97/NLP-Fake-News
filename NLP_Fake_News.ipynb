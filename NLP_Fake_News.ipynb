{
  "nbformat": 4,
  "nbformat_minor": 0,
  "metadata": {
    "colab": {
      "name": "NLP_Fake_News.ipynb",
      "provenance": [],
      "collapsed_sections": [],
      "authorship_tag": "ABX9TyMPT7icJd9/D5FnhUyHspfW",
      "include_colab_link": true
    },
    "kernelspec": {
      "name": "python3",
      "display_name": "Python 3"
    },
    "accelerator": "GPU"
  },
  "cells": [
    {
      "cell_type": "markdown",
      "metadata": {
        "id": "view-in-github",
        "colab_type": "text"
      },
      "source": [
        "<a href=\"https://colab.research.google.com/github/sakuragi97/NLP-Fake-News/blob/master/NLP_Fake_News.ipynb\" target=\"_parent\"><img src=\"https://colab.research.google.com/assets/colab-badge.svg\" alt=\"Open In Colab\"/></a>"
      ]
    },
    {
      "cell_type": "markdown",
      "metadata": {
        "id": "rsM30lWNL94e",
        "colab_type": "text"
      },
      "source": [
        "# INTRODUCTION\n",
        "**Les fausses nouvelles font référence à la désinformation, à la désinformation ou aux informations erronées qui se propagent par le bouche à oreille et les médias traditionnels et, plus récemment, par des formes de communication numériques telles que des vidéos éditées, des mèmes, des publicités non vérifiées et des rumeurs propagées par les médias sociaux. les médias sociaux sont devenus un problème grave, avec le potentiel de se traduire par de la violence de la foule, des suicides, etc. en raison de la désinformation diffusée sur les médias sociaux.**"
      ]
    },
    {
      "cell_type": "markdown",
      "metadata": {
        "id": "VUgzuEyEGHf5",
        "colab_type": "text"
      },
      "source": [
        "## BREVE DESCRIPTION DU DATASET\n",
        "Cet ensemble de données se compose d'environ 40000 articles composés de fausses et de vraies nouvelles. Notre objectif est de former notre modèle afin qu'il puisse prédire correctement si une information donnée est réelle ou fausse.Les données fictives et réelles sont fournies dans deux ensembles de données distincts, chaque ensemble de données comprenant environ 20000 articles chacun.\n",
        "\n",
        "---"
      ]
    },
    {
      "cell_type": "code",
      "metadata": {
        "id": "kYK5F0KFdZco",
        "colab_type": "code",
        "colab": {}
      },
      "source": [
        "#linking with Google Drive\n",
        "from google.colab import drive\n",
        "drive.mount('/content/gdrive')\n"
      ],
      "execution_count": null,
      "outputs": []
    },
    {
      "cell_type": "code",
      "metadata": {
        "id": "ky84J5S8faP7",
        "colab_type": "code",
        "colab": {}
      },
      "source": [
        "import os\n",
        "os.environ['KAGGLE_CONFIG_DIR'] = \"/content/gdrive/My Drive/Kaggle\"\n",
        "# /content/gdrive/My Drive/Kaggle is the path where kaggle.json is present in the Google Drive\n"
      ],
      "execution_count": 4,
      "outputs": []
    },
    {
      "cell_type": "code",
      "metadata": {
        "id": "7kIK2FNNflTX",
        "colab_type": "code",
        "colab": {}
      },
      "source": [
        "#changing the working directory\n",
        "%cd /content/gdrive/My Drive/Kaggle"
      ],
      "execution_count": null,
      "outputs": []
    },
    {
      "cell_type": "code",
      "metadata": {
        "id": "IWJEYBvDfnWn",
        "colab_type": "code",
        "colab": {}
      },
      "source": [
        "# Donwloading All Dataset Using Kaggle API \n",
        "#!kaggle datasets download -d clmentbisaillon/fake-and-real-news-dataset\n",
        "#!kaggle datasets download -d icw123/glove-twitter"
      ],
      "execution_count": 6,
      "outputs": []
    },
    {
      "cell_type": "code",
      "metadata": {
        "id": "DUx_hH5Nhg_r",
        "colab_type": "code",
        "colab": {}
      },
      "source": [
        "#unzipping the zip files and deleting the zip files\n",
        "#!unzip \\*.zip  && rm *.zip"
      ],
      "execution_count": 7,
      "outputs": []
    },
    {
      "cell_type": "markdown",
      "metadata": {
        "id": "2D-enQU-GuyJ",
        "colab_type": "text"
      },
      "source": [
        "# CHARGEMENT DES BIBLIOTHEQUES NECESSAIRES\n",
        "\n",
        "---"
      ]
    },
    {
      "cell_type": "code",
      "metadata": {
        "id": "9bzleoKzkvfJ",
        "colab_type": "code",
        "colab": {}
      },
      "source": [
        "import numpy as np # Library for linear algebra and matrices\n",
        "import pandas as pd # data processing\n",
        "\n",
        "#Plot and Visualising libraries\n",
        "import seaborn as sns\n",
        "import matplotlib.pyplot as plt\n",
        "\n",
        "#NLTK / SKLEARN / KERAS / TENSORFLOW Libraries \n",
        "import nltk\n",
        "from sklearn.preprocessing import LabelBinarizer\n",
        "from nltk.stem.porter import PorterStemmer\n",
        "from nltk.stem import WordNetLemmatizer\n",
        "from nltk.tokenize import word_tokenize,sent_tokenize\n",
        "\n",
        "\n",
        "from keras.preprocessing import text, sequence\n",
        "from nltk.tokenize.toktok import ToktokTokenizer\n",
        "from sklearn.metrics import classification_report,confusion_matrix,accuracy_score\n",
        "\n",
        "\n",
        "from nltk import pos_tag\n",
        "from nltk.corpus import wordnet\n",
        "import keras\n",
        "from keras.models import Sequential\n",
        "from keras.layers import Dense,Embedding,LSTM,Dropout\n",
        "from keras.callbacks import ReduceLROnPlateau\n",
        "import tensorflow as tf"
      ],
      "execution_count": null,
      "outputs": []
    },
    {
      "cell_type": "code",
      "metadata": {
        "id": "OHcUwCtXoTqO",
        "colab_type": "code",
        "colab": {}
      },
      "source": [
        "!ls\n"
      ],
      "execution_count": null,
      "outputs": []
    },
    {
      "cell_type": "markdown",
      "metadata": {
        "id": "Zs2Kd2ylG4pS",
        "colab_type": "text"
      },
      "source": [
        "# IMPORTATION DU DATASET"
      ]
    },
    {
      "cell_type": "code",
      "metadata": {
        "id": "15zA0eHnoMfm",
        "colab_type": "code",
        "colab": {}
      },
      "source": [
        "true = pd.read_csv(\"True.csv\")\n",
        "false = pd.read_csv(\"Fake.csv\")"
      ],
      "execution_count": 10,
      "outputs": []
    },
    {
      "cell_type": "markdown",
      "metadata": {
        "id": "cwwVw0rdG-W6",
        "colab_type": "text"
      },
      "source": [
        "# VISUALISATION ET PRÉ-TRAITEMENT DES DONNÉES"
      ]
    },
    {
      "cell_type": "code",
      "metadata": {
        "id": "4vscAdSJofNf",
        "colab_type": "code",
        "colab": {
          "base_uri": "https://localhost:8080/",
          "height": 204
        },
        "outputId": "28738f1b-38d0-4af1-c749-8755c75388cd"
      },
      "source": [
        "true.head()"
      ],
      "execution_count": 11,
      "outputs": [
        {
          "output_type": "execute_result",
          "data": {
            "text/html": [
              "<div>\n",
              "<style scoped>\n",
              "    .dataframe tbody tr th:only-of-type {\n",
              "        vertical-align: middle;\n",
              "    }\n",
              "\n",
              "    .dataframe tbody tr th {\n",
              "        vertical-align: top;\n",
              "    }\n",
              "\n",
              "    .dataframe thead th {\n",
              "        text-align: right;\n",
              "    }\n",
              "</style>\n",
              "<table border=\"1\" class=\"dataframe\">\n",
              "  <thead>\n",
              "    <tr style=\"text-align: right;\">\n",
              "      <th></th>\n",
              "      <th>title</th>\n",
              "      <th>text</th>\n",
              "      <th>subject</th>\n",
              "      <th>date</th>\n",
              "    </tr>\n",
              "  </thead>\n",
              "  <tbody>\n",
              "    <tr>\n",
              "      <th>0</th>\n",
              "      <td>As U.S. budget fight looms, Republicans flip t...</td>\n",
              "      <td>WASHINGTON (Reuters) - The head of a conservat...</td>\n",
              "      <td>politicsNews</td>\n",
              "      <td>December 31, 2017</td>\n",
              "    </tr>\n",
              "    <tr>\n",
              "      <th>1</th>\n",
              "      <td>U.S. military to accept transgender recruits o...</td>\n",
              "      <td>WASHINGTON (Reuters) - Transgender people will...</td>\n",
              "      <td>politicsNews</td>\n",
              "      <td>December 29, 2017</td>\n",
              "    </tr>\n",
              "    <tr>\n",
              "      <th>2</th>\n",
              "      <td>Senior U.S. Republican senator: 'Let Mr. Muell...</td>\n",
              "      <td>WASHINGTON (Reuters) - The special counsel inv...</td>\n",
              "      <td>politicsNews</td>\n",
              "      <td>December 31, 2017</td>\n",
              "    </tr>\n",
              "    <tr>\n",
              "      <th>3</th>\n",
              "      <td>FBI Russia probe helped by Australian diplomat...</td>\n",
              "      <td>WASHINGTON (Reuters) - Trump campaign adviser ...</td>\n",
              "      <td>politicsNews</td>\n",
              "      <td>December 30, 2017</td>\n",
              "    </tr>\n",
              "    <tr>\n",
              "      <th>4</th>\n",
              "      <td>Trump wants Postal Service to charge 'much mor...</td>\n",
              "      <td>SEATTLE/WASHINGTON (Reuters) - President Donal...</td>\n",
              "      <td>politicsNews</td>\n",
              "      <td>December 29, 2017</td>\n",
              "    </tr>\n",
              "  </tbody>\n",
              "</table>\n",
              "</div>"
            ],
            "text/plain": [
              "                                               title  ...                date\n",
              "0  As U.S. budget fight looms, Republicans flip t...  ...  December 31, 2017 \n",
              "1  U.S. military to accept transgender recruits o...  ...  December 29, 2017 \n",
              "2  Senior U.S. Republican senator: 'Let Mr. Muell...  ...  December 31, 2017 \n",
              "3  FBI Russia probe helped by Australian diplomat...  ...  December 30, 2017 \n",
              "4  Trump wants Postal Service to charge 'much mor...  ...  December 29, 2017 \n",
              "\n",
              "[5 rows x 4 columns]"
            ]
          },
          "metadata": {
            "tags": []
          },
          "execution_count": 11
        }
      ]
    },
    {
      "cell_type": "code",
      "metadata": {
        "id": "aGQjfdTUoiC8",
        "colab_type": "code",
        "colab": {
          "base_uri": "https://localhost:8080/",
          "height": 204
        },
        "outputId": "1b98d66c-4304-411a-b7d5-1996a0f4e36c"
      },
      "source": [
        "false.head()"
      ],
      "execution_count": 12,
      "outputs": [
        {
          "output_type": "execute_result",
          "data": {
            "text/html": [
              "<div>\n",
              "<style scoped>\n",
              "    .dataframe tbody tr th:only-of-type {\n",
              "        vertical-align: middle;\n",
              "    }\n",
              "\n",
              "    .dataframe tbody tr th {\n",
              "        vertical-align: top;\n",
              "    }\n",
              "\n",
              "    .dataframe thead th {\n",
              "        text-align: right;\n",
              "    }\n",
              "</style>\n",
              "<table border=\"1\" class=\"dataframe\">\n",
              "  <thead>\n",
              "    <tr style=\"text-align: right;\">\n",
              "      <th></th>\n",
              "      <th>title</th>\n",
              "      <th>text</th>\n",
              "      <th>subject</th>\n",
              "      <th>date</th>\n",
              "    </tr>\n",
              "  </thead>\n",
              "  <tbody>\n",
              "    <tr>\n",
              "      <th>0</th>\n",
              "      <td>Donald Trump Sends Out Embarrassing New Year’...</td>\n",
              "      <td>Donald Trump just couldn t wish all Americans ...</td>\n",
              "      <td>News</td>\n",
              "      <td>December 31, 2017</td>\n",
              "    </tr>\n",
              "    <tr>\n",
              "      <th>1</th>\n",
              "      <td>Drunk Bragging Trump Staffer Started Russian ...</td>\n",
              "      <td>House Intelligence Committee Chairman Devin Nu...</td>\n",
              "      <td>News</td>\n",
              "      <td>December 31, 2017</td>\n",
              "    </tr>\n",
              "    <tr>\n",
              "      <th>2</th>\n",
              "      <td>Sheriff David Clarke Becomes An Internet Joke...</td>\n",
              "      <td>On Friday, it was revealed that former Milwauk...</td>\n",
              "      <td>News</td>\n",
              "      <td>December 30, 2017</td>\n",
              "    </tr>\n",
              "    <tr>\n",
              "      <th>3</th>\n",
              "      <td>Trump Is So Obsessed He Even Has Obama’s Name...</td>\n",
              "      <td>On Christmas day, Donald Trump announced that ...</td>\n",
              "      <td>News</td>\n",
              "      <td>December 29, 2017</td>\n",
              "    </tr>\n",
              "    <tr>\n",
              "      <th>4</th>\n",
              "      <td>Pope Francis Just Called Out Donald Trump Dur...</td>\n",
              "      <td>Pope Francis used his annual Christmas Day mes...</td>\n",
              "      <td>News</td>\n",
              "      <td>December 25, 2017</td>\n",
              "    </tr>\n",
              "  </tbody>\n",
              "</table>\n",
              "</div>"
            ],
            "text/plain": [
              "                                               title  ...               date\n",
              "0   Donald Trump Sends Out Embarrassing New Year’...  ...  December 31, 2017\n",
              "1   Drunk Bragging Trump Staffer Started Russian ...  ...  December 31, 2017\n",
              "2   Sheriff David Clarke Becomes An Internet Joke...  ...  December 30, 2017\n",
              "3   Trump Is So Obsessed He Even Has Obama’s Name...  ...  December 29, 2017\n",
              "4   Pope Francis Just Called Out Donald Trump Dur...  ...  December 25, 2017\n",
              "\n",
              "[5 rows x 4 columns]"
            ]
          },
          "metadata": {
            "tags": []
          },
          "execution_count": 12
        }
      ]
    },
    {
      "cell_type": "code",
      "metadata": {
        "id": "zxPhv0fio6lh",
        "colab_type": "code",
        "colab": {}
      },
      "source": [
        "true['category'] = 1\n",
        "false['category'] = 0"
      ],
      "execution_count": 13,
      "outputs": []
    },
    {
      "cell_type": "code",
      "metadata": {
        "id": "GBCQdCROpAoK",
        "colab_type": "code",
        "colab": {}
      },
      "source": [
        "df = pd.concat([true,false])"
      ],
      "execution_count": 14,
      "outputs": []
    },
    {
      "cell_type": "code",
      "metadata": {
        "id": "8hBaVfcOpYbp",
        "colab_type": "code",
        "colab": {
          "base_uri": "https://localhost:8080/",
          "height": 296
        },
        "outputId": "baecccd7-2f78-446b-8119-549a077cf4bb"
      },
      "source": [
        "sns.countplot(df.category)"
      ],
      "execution_count": 15,
      "outputs": [
        {
          "output_type": "execute_result",
          "data": {
            "text/plain": [
              "<matplotlib.axes._subplots.AxesSubplot at 0x7f9ec9a98908>"
            ]
          },
          "metadata": {
            "tags": []
          },
          "execution_count": 15
        },
        {
          "output_type": "display_data",
          "data": {
            "image/png": "[encoded data removed]",
            "text/plain": [
              "<Figure size 432x288 with 1 Axes>"
            ]
          },
          "metadata": {
            "tags": [],
            "needs_background": "light"
          }
        }
      ]
    },
    {
      "cell_type": "markdown",
      "metadata": {
        "id": "26rY86hzHHJ4",
        "colab_type": "text"
      },
      "source": [
        " **ON PEUT VOIR QUE LE DATASET EST ÉQUILIBRÉ**"
      ]
    },
    {
      "cell_type": "code",
      "metadata": {
        "id": "4uMXgIs6prun",
        "colab_type": "code",
        "colab": {
          "base_uri": "https://localhost:8080/",
          "height": 204
        },
        "outputId": "16c1f69f-7f1a-474b-8d37-34561bf58ae4"
      },
      "source": [
        "df.head()"
      ],
      "execution_count": 16,
      "outputs": [
        {
          "output_type": "execute_result",
          "data": {
            "text/html": [
              "<div>\n",
              "<style scoped>\n",
              "    .dataframe tbody tr th:only-of-type {\n",
              "        vertical-align: middle;\n",
              "    }\n",
              "\n",
              "    .dataframe tbody tr th {\n",
              "        vertical-align: top;\n",
              "    }\n",
              "\n",
              "    .dataframe thead th {\n",
              "        text-align: right;\n",
              "    }\n",
              "</style>\n",
              "<table border=\"1\" class=\"dataframe\">\n",
              "  <thead>\n",
              "    <tr style=\"text-align: right;\">\n",
              "      <th></th>\n",
              "      <th>title</th>\n",
              "      <th>text</th>\n",
              "      <th>subject</th>\n",
              "      <th>date</th>\n",
              "      <th>category</th>\n",
              "    </tr>\n",
              "  </thead>\n",
              "  <tbody>\n",
              "    <tr>\n",
              "      <th>0</th>\n",
              "      <td>As U.S. budget fight looms, Republicans flip t...</td>\n",
              "      <td>WASHINGTON (Reuters) - The head of a conservat...</td>\n",
              "      <td>politicsNews</td>\n",
              "      <td>December 31, 2017</td>\n",
              "      <td>1</td>\n",
              "    </tr>\n",
              "    <tr>\n",
              "      <th>1</th>\n",
              "      <td>U.S. military to accept transgender recruits o...</td>\n",
              "      <td>WASHINGTON (Reuters) - Transgender people will...</td>\n",
              "      <td>politicsNews</td>\n",
              "      <td>December 29, 2017</td>\n",
              "      <td>1</td>\n",
              "    </tr>\n",
              "    <tr>\n",
              "      <th>2</th>\n",
              "      <td>Senior U.S. Republican senator: 'Let Mr. Muell...</td>\n",
              "      <td>WASHINGTON (Reuters) - The special counsel inv...</td>\n",
              "      <td>politicsNews</td>\n",
              "      <td>December 31, 2017</td>\n",
              "      <td>1</td>\n",
              "    </tr>\n",
              "    <tr>\n",
              "      <th>3</th>\n",
              "      <td>FBI Russia probe helped by Australian diplomat...</td>\n",
              "      <td>WASHINGTON (Reuters) - Trump campaign adviser ...</td>\n",
              "      <td>politicsNews</td>\n",
              "      <td>December 30, 2017</td>\n",
              "      <td>1</td>\n",
              "    </tr>\n",
              "    <tr>\n",
              "      <th>4</th>\n",
              "      <td>Trump wants Postal Service to charge 'much mor...</td>\n",
              "      <td>SEATTLE/WASHINGTON (Reuters) - President Donal...</td>\n",
              "      <td>politicsNews</td>\n",
              "      <td>December 29, 2017</td>\n",
              "      <td>1</td>\n",
              "    </tr>\n",
              "  </tbody>\n",
              "</table>\n",
              "</div>"
            ],
            "text/plain": [
              "                                               title  ... category\n",
              "0  As U.S. budget fight looms, Republicans flip t...  ...        1\n",
              "1  U.S. military to accept transgender recruits o...  ...        1\n",
              "2  Senior U.S. Republican senator: 'Let Mr. Muell...  ...        1\n",
              "3  FBI Russia probe helped by Australian diplomat...  ...        1\n",
              "4  Trump wants Postal Service to charge 'much mor...  ...        1\n",
              "\n",
              "[5 rows x 5 columns]"
            ]
          },
          "metadata": {
            "tags": []
          },
          "execution_count": 16
        }
      ]
    },
    {
      "cell_type": "code",
      "metadata": {
        "id": "ZVbwPBOQp89m",
        "colab_type": "code",
        "colab": {
          "base_uri": "https://localhost:8080/",
          "height": 119
        },
        "outputId": "636ae07a-5a72-40c0-cebd-2ecee5c94e72"
      },
      "source": [
        "df.isna().sum()"
      ],
      "execution_count": 17,
      "outputs": [
        {
          "output_type": "execute_result",
          "data": {
            "text/plain": [
              "title       0\n",
              "text        0\n",
              "subject     0\n",
              "date        0\n",
              "category    0\n",
              "dtype: int64"
            ]
          },
          "metadata": {
            "tags": []
          },
          "execution_count": 17
        }
      ]
    },
    {
      "cell_type": "code",
      "metadata": {
        "id": "qxLoCeqYtwGl",
        "colab_type": "code",
        "colab": {
          "base_uri": "https://localhost:8080/",
          "height": 119
        },
        "outputId": "bca9f8cd-8172-4443-c3c0-2dbdc4162f97"
      },
      "source": [
        "df.count()"
      ],
      "execution_count": 18,
      "outputs": [
        {
          "output_type": "execute_result",
          "data": {
            "text/plain": [
              "title       44898\n",
              "text        44898\n",
              "subject     44898\n",
              "date        44898\n",
              "category    44898\n",
              "dtype: int64"
            ]
          },
          "metadata": {
            "tags": []
          },
          "execution_count": 18
        }
      ]
    },
    {
      "cell_type": "code",
      "metadata": {
        "id": "bmk0ztYnt7Lt",
        "colab_type": "code",
        "colab": {
          "base_uri": "https://localhost:8080/",
          "height": 170
        },
        "outputId": "c1ed5c16-f4a1-48fa-84e7-861c3d10da99"
      },
      "source": [
        "df.subject.value_counts()"
      ],
      "execution_count": 19,
      "outputs": [
        {
          "output_type": "execute_result",
          "data": {
            "text/plain": [
              "politicsNews       11272\n",
              "worldnews          10145\n",
              "News                9050\n",
              "politics            6841\n",
              "left-news           4459\n",
              "Government News     1570\n",
              "US_News              783\n",
              "Middle-east          778\n",
              "Name: subject, dtype: int64"
            ]
          },
          "metadata": {
            "tags": []
          },
          "execution_count": 19
        }
      ]
    },
    {
      "cell_type": "code",
      "metadata": {
        "id": "tElXT23-vxva",
        "colab_type": "code",
        "colab": {
          "base_uri": "https://localhost:8080/",
          "height": 606
        },
        "outputId": "70e6e8f1-1234-4479-c792-eebc74c2cac8"
      },
      "source": [
        "plt.figure(figsize = (15,10))\n",
        "chart = sns.countplot(x = \"subject\", hue = \"category\" , data = df , palette = 'muted')"
      ],
      "execution_count": 20,
      "outputs": [
        {
          "output_type": "display_data",
          "data": {
            "image/png": "[encoded data removed]",
            "text/plain": [
              "<Figure size 1080x720 with 1 Axes>"
            ]
          },
          "metadata": {
            "tags": [],
            "needs_background": "light"
          }
        }
      ]
    },
    {
      "cell_type": "markdown",
      "metadata": {
        "id": "3cHgrtl6Hs6B",
        "colab_type": "text"
      },
      "source": [
        "**PUISQUE LES SUJETS DE LA COLONNE \"SUBJECT\" SONT DIFFÉRENTS POUR LES DEUX CATÉGORIES, NOUS DEVONS EXCLURE DE LA COLONNE DE \"TEXT\" FINAL**"
      ]
    },
    {
      "cell_type": "code",
      "metadata": {
        "id": "o6Cbna3G1a6x",
        "colab_type": "code",
        "colab": {}
      },
      "source": [
        "df['text'] = df['text'] + \" \" + df['title']\n",
        "del df['title']\n",
        "del df['subject']\n",
        "del df['date']"
      ],
      "execution_count": 21,
      "outputs": []
    },
    {
      "cell_type": "markdown",
      "metadata": {
        "id": "cdq2yIUdII8y",
        "colab_type": "text"
      },
      "source": [
        "**QU'EST-CE QUE LES STOPWORDS?**\n",
        "\n",
        "**Les \"STOPWORDS\" sont les mots vides, les mots anglais qui n'ajoutent pas beaucoup de sens à une phrase. Ils peuvent être ignorés en toute sécurité sans sacrifier le sens de la phrase. Par exemple, les mots comme le, il, ont etc. De tels mots sont déjà capturés dans le corpus nommé corpus. Nous le téléchargeons d'abord dans notre environnement python.**"
      ]
    },
    {
      "cell_type": "code",
      "metadata": {
        "id": "Cqv3lV011h9W",
        "colab_type": "code",
        "colab": {
          "base_uri": "https://localhost:8080/",
          "height": 204
        },
        "outputId": "d63f3d54-f413-4f87-c2f4-4924a9bfe2be"
      },
      "source": [
        "df.head()"
      ],
      "execution_count": 22,
      "outputs": [
        {
          "output_type": "execute_result",
          "data": {
            "text/html": [
              "<div>\n",
              "<style scoped>\n",
              "    .dataframe tbody tr th:only-of-type {\n",
              "        vertical-align: middle;\n",
              "    }\n",
              "\n",
              "    .dataframe tbody tr th {\n",
              "        vertical-align: top;\n",
              "    }\n",
              "\n",
              "    .dataframe thead th {\n",
              "        text-align: right;\n",
              "    }\n",
              "</style>\n",
              "<table border=\"1\" class=\"dataframe\">\n",
              "  <thead>\n",
              "    <tr style=\"text-align: right;\">\n",
              "      <th></th>\n",
              "      <th>text</th>\n",
              "      <th>category</th>\n",
              "    </tr>\n",
              "  </thead>\n",
              "  <tbody>\n",
              "    <tr>\n",
              "      <th>0</th>\n",
              "      <td>WASHINGTON (Reuters) - The head of a conservat...</td>\n",
              "      <td>1</td>\n",
              "    </tr>\n",
              "    <tr>\n",
              "      <th>1</th>\n",
              "      <td>WASHINGTON (Reuters) - Transgender people will...</td>\n",
              "      <td>1</td>\n",
              "    </tr>\n",
              "    <tr>\n",
              "      <th>2</th>\n",
              "      <td>WASHINGTON (Reuters) - The special counsel inv...</td>\n",
              "      <td>1</td>\n",
              "    </tr>\n",
              "    <tr>\n",
              "      <th>3</th>\n",
              "      <td>WASHINGTON (Reuters) - Trump campaign adviser ...</td>\n",
              "      <td>1</td>\n",
              "    </tr>\n",
              "    <tr>\n",
              "      <th>4</th>\n",
              "      <td>SEATTLE/WASHINGTON (Reuters) - President Donal...</td>\n",
              "      <td>1</td>\n",
              "    </tr>\n",
              "  </tbody>\n",
              "</table>\n",
              "</div>"
            ],
            "text/plain": [
              "                                                text  category\n",
              "0  WASHINGTON (Reuters) - The head of a conservat...         1\n",
              "1  WASHINGTON (Reuters) - Transgender people will...         1\n",
              "2  WASHINGTON (Reuters) - The special counsel inv...         1\n",
              "3  WASHINGTON (Reuters) - Trump campaign adviser ...         1\n",
              "4  SEATTLE/WASHINGTON (Reuters) - President Donal...         1"
            ]
          },
          "metadata": {
            "tags": []
          },
          "execution_count": 22
        }
      ]
    },
    {
      "cell_type": "code",
      "metadata": {
        "id": "_RBukVCa1yEz",
        "colab_type": "code",
        "colab": {
          "base_uri": "https://localhost:8080/",
          "height": 88
        },
        "outputId": "fe58b3e1-4498-4aba-bc1b-24069108e2ee"
      },
      "source": [
        "from nltk.corpus import stopwords\n",
        "import string\n",
        "nltk.download('stopwords')\n",
        "# nltk.download('string')\n",
        "\n",
        "stopwordset = set(stopwords.words('english'))\n",
        "punctuation = list(string.punctuation)\n",
        "stopwordset.update(punctuation)\n",
        "print(stopwordset)"
      ],
      "execution_count": 23,
      "outputs": [
        {
          "output_type": "stream",
          "text": [
            "[nltk_data] Downloading package stopwords to /root/nltk_data...\n",
            "[nltk_data]   Unzipping corpora/stopwords.zip.\n",
            "{'from', 'do', 'as', 'aren', 'her', 'few', \"'\", 'of', \"doesn't\", \"isn't\", 'you', 'needn', \"should've\", 'through', 'out', 'weren', 'it', '/', 'yours', \"that'll\", '`', 'theirs', 'me', 'some', 'd', 'will', 'hers', 'is', 'further', 'll', '.', 'y', 'doing', 'there', 'same', \"hasn't\", ',', \"weren't\", 'nor', 'his', 'under', '<', 'which', \"she's\", 'shan', \"couldn't\", 'wouldn', '\"', 'down', 'who', 'again', 'off', 'in', '_', '#', \"you'll\", 'have', 'having', 'to', 'doesn', 'why', 've', 'wasn', 'such', 'does', 'before', 'whom', 'myself', 'i', 'at', 'hasn', 'those', '?', 'haven', \"wasn't\", 'mightn', '!', 'so', 'are', 'very', 'while', 'they', 'himself', 'not', 'we', 'should', '=', '[', 'most', 'or', 'no', 'because', \"didn't\", '*', 'shouldn', 'couldn', \"aren't\", '{', 'about', 'up', 'has', 'won', 'him', 'these', 'after', 'herself', 'where', 'how', 'that', 'only', 'don', 'now', 'been', \"don't\", 'an', \"you'd\", '$', 'themselves', 'own', '~', '|', 'each', \"shouldn't\", ')', 'than', '%', \"you've\", 't', '\\\\', 'until', 'between', 'here', 'its', 'm', 'he', 'their', 'mustn', \"hadn't\", \"mustn't\", 'a', 'did', 'against', '}', 'too', 'had', 'them', \"won't\", ';', 'being', 'once', 'was', 'over', 'both', 'all', 'above', 'were', 'this', 'can', '^', 'my', \"wouldn't\", \"you're\", 'for', 'when', 'be', 'by', 're', 'during', 'hadn', 'any', 'your', 'the', \"mightn't\", 'she', 'other', 'ours', 'below', \"shan't\", ']', '(', 'but', 'ain', 'what', \"haven't\", 'our', 'didn', 'yourselves', '-', 'on', 'am', 'more', 'if', 'isn', 'then', '@', \"needn't\", '+', 'yourself', 'just', 'o', 'ma', 'and', '&', 'itself', \"it's\", 'ourselves', 'into', 'with', ':', '>', 's'}\n"
          ],
          "name": "stdout"
        }
      ]
    },
    {
      "cell_type": "markdown",
      "metadata": {
        "id": "vvyHSOqeIjd2",
        "colab_type": "text"
      },
      "source": [
        "**DATA CLEANING**"
      ]
    },
    {
      "cell_type": "code",
      "metadata": {
        "id": "oqL5K6eY4r2p",
        "colab_type": "code",
        "colab": {}
      },
      "source": [
        "from bs4 import BeautifulSoup\n",
        "import re,string,unicodedata\n",
        "\n",
        "def strip_html(text):\n",
        "    soup = BeautifulSoup(text, \"html.parser\")\n",
        "    return soup.get_text()\n",
        "\n",
        "#Removing the square brackets\n",
        "def remove_between_square_brackets(text):\n",
        "    return re.sub('\\[[^]]*\\]', '', text) #Regular Expression\n",
        "\n",
        "# Removing URL's\n",
        "def remove_between_square_brackets(text):\n",
        "    return re.sub(r'http\\S+', '', text) #Regular Expression\n",
        "\n",
        "#Removing the stopwords from text\n",
        "def remove_stopwords(text):\n",
        "    final_text = []\n",
        "    for i in text.split():\n",
        "        if i.strip().lower() not in stopwordset:\n",
        "            final_text.append(i.strip())\n",
        "    return \" \".join(final_text)\n",
        "\n",
        "#Summing up the previous functions\n",
        "def denoise_text(text):\n",
        "    text = strip_html(text)\n",
        "    text = remove_between_square_brackets(text)\n",
        "    text = remove_stopwords(text)\n",
        "    return text\n",
        "\n",
        "#Apply function on text column\n",
        "df['text']=df['text'].apply(denoise_text)"
      ],
      "execution_count": 24,
      "outputs": []
    },
    {
      "cell_type": "markdown",
      "metadata": {
        "id": "MBFN7UdFJH_P",
        "colab_type": "text"
      },
      "source": [
        "**Diviser les données en 2 parties - données d'entraînement et de test**"
      ]
    },
    {
      "cell_type": "code",
      "metadata": {
        "id": "PNbaJ0CJuJlj",
        "colab_type": "code",
        "colab": {}
      },
      "source": [
        "from sklearn.model_selection import train_test_split\n",
        "x_train,x_test,y_train,y_test = train_test_split(df.text,df.category,random_state = 0)"
      ],
      "execution_count": 25,
      "outputs": []
    },
    {
      "cell_type": "code",
      "metadata": {
        "id": "FHB8xWUjvAo_",
        "colab_type": "code",
        "colab": {}
      },
      "source": [
        "max_features = 10000\n",
        "maxlen = 300"
      ],
      "execution_count": 26,
      "outputs": []
    },
    {
      "cell_type": "markdown",
      "metadata": {
        "id": "QS29yYJFJksA",
        "colab_type": "text"
      },
      "source": [
        "**Texte de tokenisation : Représenter chaque mot par un nombre**\n",
        "\n",
        "**Tokenized applique un traitement de base comme le changer en minuscules, en définissant explicitement cela comme False**\n",
        "\n",
        "**Permet de garder toutes les \"news\" à 300, d'ajouter du rembourrage aux nouvelles avec moins de 300 mots et de tronquer les longs**"
      ]
    },
    {
      "cell_type": "code",
      "metadata": {
        "id": "rNYc52lWtNuJ",
        "colab_type": "code",
        "colab": {}
      },
      "source": [
        "tokenizer = text.Tokenizer(num_words=max_features)\n",
        "tokenizer.fit_on_texts(x_train)\n",
        "tokenized_train = tokenizer.texts_to_sequences(x_train)\n",
        "x_train = sequence.pad_sequences(tokenized_train, maxlen=maxlen)"
      ],
      "execution_count": 27,
      "outputs": []
    },
    {
      "cell_type": "code",
      "metadata": {
        "id": "gdKnKgjs6VCX",
        "colab_type": "code",
        "colab": {}
      },
      "source": [
        "tokenized_test = tokenizer.texts_to_sequences(x_test)\n",
        "X_test = sequence.pad_sequences(tokenized_test, maxlen=maxlen)"
      ],
      "execution_count": 28,
      "outputs": []
    },
    {
      "cell_type": "markdown",
      "metadata": {
        "id": "xZYcZ_jEKb9v",
        "colab_type": "text"
      },
      "source": [
        "#GloVe: Global Vectors for Word Representation\n",
        "**GloVe est un algorithme d'apprentissage non supervisé permettant d'obtenir des représentations vectorielles des mots. La formation est effectuée sur des statistiques globales de co-occurrence mot-mot d'un corpus, et les représentations résultantes présentent des sous-structures linéaires intéressantes de l'espace vectoriel de mots.**"
      ]
    },
    {
      "cell_type": "code",
      "metadata": {
        "id": "NvY0fXPazS_c",
        "colab_type": "code",
        "colab": {}
      },
      "source": [
        "EMBEDDING_FILE = 'glove.twitter.27B.100d.txt'"
      ],
      "execution_count": 29,
      "outputs": []
    },
    {
      "cell_type": "code",
      "metadata": {
        "id": "Z4jf0GSVzfRX",
        "colab_type": "code",
        "colab": {}
      },
      "source": [
        "def get_coefs(word, *arr): \n",
        "    return word, np.asarray(arr, dtype='float32')\n",
        "embeddings_index = dict(get_coefs(*o.rstrip().rsplit(' ')) for o in open(EMBEDDING_FILE))"
      ],
      "execution_count": 30,
      "outputs": []
    },
    {
      "cell_type": "code",
      "metadata": {
        "id": "sppq3GehzyFF",
        "colab_type": "code",
        "colab": {}
      },
      "source": [
        "all_embs = np.stack(embeddings_index.values())\n",
        "emb_mean,emb_std = all_embs.mean(), all_embs.std()\n",
        "embed_size = all_embs.shape[1]\n",
        "\n",
        "word_index = tokenizer.word_index\n",
        "nb_words = min(max_features, len(word_index))\n",
        "\n",
        "embedding_matrix = embedding_matrix = np.random.normal(emb_mean, emb_std, (nb_words, embed_size))\n",
        "for word, i in word_index.items():\n",
        "    if i >= max_features: continue\n",
        "    embedding_vector = embeddings_index.get(word)\n",
        "    if embedding_vector is not None: embedding_matrix[i] = embedding_vector"
      ],
      "execution_count": null,
      "outputs": []
    },
    {
      "cell_type": "markdown",
      "metadata": {
        "id": "hFe-f1oEK5B_",
        "colab_type": "text"
      },
      "source": [
        "**Certains paramètres du modèle**"
      ]
    },
    {
      "cell_type": "code",
      "metadata": {
        "id": "elaoiKdIz6PZ",
        "colab_type": "code",
        "colab": {}
      },
      "source": [
        "batch_size = 256\n",
        "epochs = 10\n",
        "embed_size = 100"
      ],
      "execution_count": 32,
      "outputs": []
    },
    {
      "cell_type": "code",
      "metadata": {
        "id": "_zW9Znnyz8Rb",
        "colab_type": "code",
        "colab": {}
      },
      "source": [
        "learning_rate_reduction = ReduceLROnPlateau(monitor='val_accuracy', patience = 2, verbose=1,factor=0.5, min_lr=0.00001)"
      ],
      "execution_count": 33,
      "outputs": []
    },
    {
      "cell_type": "markdown",
      "metadata": {
        "id": "EzWPI0bBK_SA",
        "colab_type": "text"
      },
      "source": [
        "# TRAINING DU MODÈLE"
      ]
    },
    {
      "cell_type": "code",
      "metadata": {
        "id": "K_JUFo6F0BaD",
        "colab_type": "code",
        "colab": {}
      },
      "source": [
        "#Neural Network\n",
        "model = Sequential()\n",
        "\n",
        "#Non-trainable embeddidng layer\n",
        "model.add(Embedding(max_features, output_dim=embed_size, weights=[embedding_matrix], input_length=maxlen, trainable=False))\n",
        "\n",
        "#LSTM \n",
        "model.add(LSTM(units=128 , return_sequences = True , recurrent_dropout = 0.25 , dropout = 0.25))\n",
        "model.add(LSTM(units=64 , recurrent_dropout = 0.1 , dropout = 0.1))\n",
        "model.add(Dense(units = 32 , activation = 'relu'))\n",
        "model.add(Dense(1, activation='sigmoid'))\n",
        "model.compile(optimizer=keras.optimizers.Adam(lr = 0.01), loss='binary_crossentropy', metrics=['accuracy'])"
      ],
      "execution_count": 34,
      "outputs": []
    },
    {
      "cell_type": "code",
      "metadata": {
        "id": "pBudBEwz0Ee1",
        "colab_type": "code",
        "colab": {
          "base_uri": "https://localhost:8080/",
          "height": 323
        },
        "outputId": "2d3e0acb-4c76-4a9a-9de4-270f143ac346"
      },
      "source": [
        "model.summary()"
      ],
      "execution_count": 35,
      "outputs": [
        {
          "output_type": "stream",
          "text": [
            "Model: \"sequential_1\"\n",
            "_________________________________________________________________\n",
            "Layer (type)                 Output Shape              Param #   \n",
            "=================================================================\n",
            "embedding_1 (Embedding)      (None, 300, 100)          1000000   \n",
            "_________________________________________________________________\n",
            "lstm_1 (LSTM)                (None, 300, 128)          117248    \n",
            "_________________________________________________________________\n",
            "lstm_2 (LSTM)                (None, 64)                49408     \n",
            "_________________________________________________________________\n",
            "dense_1 (Dense)              (None, 32)                2080      \n",
            "_________________________________________________________________\n",
            "dense_2 (Dense)              (None, 1)                 33        \n",
            "=================================================================\n",
            "Total params: 1,168,769\n",
            "Trainable params: 168,769\n",
            "Non-trainable params: 1,000,000\n",
            "_________________________________________________________________\n"
          ],
          "name": "stdout"
        }
      ]
    },
    {
      "cell_type": "code",
      "metadata": {
        "id": "agSmQ8R00JU8",
        "colab_type": "code",
        "colab": {
          "base_uri": "https://localhost:8080/",
          "height": 442
        },
        "outputId": "49cb1530-da97-4b4e-efc4-c4d2940a0641"
      },
      "source": [
        "history = model.fit(x_train, y_train, batch_size = batch_size , validation_data = (X_test,y_test) , epochs = epochs , callbacks = [learning_rate_reduction])"
      ],
      "execution_count": 36,
      "outputs": [
        {
          "output_type": "stream",
          "text": [
            "Train on 33673 samples, validate on 11225 samples\n",
            "Epoch 1/10\n",
            "33673/33673 [==============================] - 134s 4ms/step - loss: 0.1560 - accuracy: 0.9386 - val_loss: 0.0638 - val_accuracy: 0.9783\n",
            "Epoch 2/10\n",
            "33673/33673 [==============================] - 132s 4ms/step - loss: 0.0582 - accuracy: 0.9803 - val_loss: 0.0182 - val_accuracy: 0.9938\n",
            "Epoch 3/10\n",
            "33673/33673 [==============================] - 132s 4ms/step - loss: 0.0228 - accuracy: 0.9922 - val_loss: 0.0167 - val_accuracy: 0.9949\n",
            "Epoch 4/10\n",
            "33673/33673 [==============================] - 132s 4ms/step - loss: 0.0168 - accuracy: 0.9943 - val_loss: 0.0099 - val_accuracy: 0.9966\n",
            "Epoch 5/10\n",
            "33673/33673 [==============================] - 130s 4ms/step - loss: 0.0081 - accuracy: 0.9972 - val_loss: 0.0056 - val_accuracy: 0.9983\n",
            "Epoch 6/10\n",
            "33673/33673 [==============================] - 130s 4ms/step - loss: 0.0081 - accuracy: 0.9971 - val_loss: 0.0072 - val_accuracy: 0.9980\n",
            "Epoch 7/10\n",
            "33673/33673 [==============================] - 131s 4ms/step - loss: 0.0063 - accuracy: 0.9981 - val_loss: 0.0076 - val_accuracy: 0.9977\n",
            "\n",
            "Epoch 00007: ReduceLROnPlateau reducing learning rate to 0.004999999888241291.\n",
            "Epoch 8/10\n",
            "33673/33673 [==============================] - 130s 4ms/step - loss: 0.0046 - accuracy: 0.9985 - val_loss: 0.0055 - val_accuracy: 0.9982\n",
            "Epoch 9/10\n",
            "33673/33673 [==============================] - 130s 4ms/step - loss: 0.0043 - accuracy: 0.9986 - val_loss: 0.0054 - val_accuracy: 0.9980\n",
            "\n",
            "Epoch 00009: ReduceLROnPlateau reducing learning rate to 0.0024999999441206455.\n",
            "Epoch 10/10\n",
            "33673/33673 [==============================] - 131s 4ms/step - loss: 0.0027 - accuracy: 0.9991 - val_loss: 0.0054 - val_accuracy: 0.9983\n"
          ],
          "name": "stdout"
        }
      ]
    },
    {
      "cell_type": "markdown",
      "metadata": {
        "id": "4QFRqRTgLRUn",
        "colab_type": "text"
      },
      "source": [
        "# ANALYSE APRÈS TRAINING DU MODÈLE"
      ]
    },
    {
      "cell_type": "code",
      "metadata": {
        "id": "flBWK--p0fZo",
        "colab_type": "code",
        "colab": {
          "base_uri": "https://localhost:8080/",
          "height": 85
        },
        "outputId": "0da066e5-1cb1-40b3-9377-73a46a9e2cb8"
      },
      "source": [
        "print(\"Accuracy of the model on Training Data is - \" , model.evaluate(x_train,y_train)[1]*100)\n",
        "print(\"Accuracy of the model on Testing Data is - \" , model.evaluate(X_test,y_test)[1]*100)"
      ],
      "execution_count": 37,
      "outputs": [
        {
          "output_type": "stream",
          "text": [
            "33673/33673 [==============================] - 87s 3ms/step\n",
            "Accuracy of the model on Training Data is -  99.99406337738037\n",
            "11225/11225 [==============================] - 29s 3ms/step\n",
            "Accuracy of the model on Testing Data is -  99.83073472976685\n"
          ],
          "name": "stdout"
        }
      ]
    },
    {
      "cell_type": "code",
      "metadata": {
        "id": "zmllzG0R_mdp",
        "colab_type": "code",
        "colab": {
          "base_uri": "https://localhost:8080/",
          "height": 621
        },
        "outputId": "4972b833-62d9-43b1-daf9-36de606d52f1"
      },
      "source": [
        "epochs = [i for i in range(10)]\n",
        "fig , ax = plt.subplots(1,2)\n",
        "train_acc = history.history['accuracy']\n",
        "train_loss = history.history['loss']\n",
        "val_acc = history.history['val_accuracy']\n",
        "val_loss = history.history['val_loss']\n",
        "fig.set_size_inches(20,10)\n",
        "\n",
        "ax[0].plot(epochs , train_acc , 'bo-' , label = 'Training Accuracy')\n",
        "ax[0].plot(epochs , val_acc , 'go-' , label = 'Testing Accuracy')\n",
        "ax[0].set_title('Training & Testing Accuracy')\n",
        "ax[0].legend()\n",
        "ax[0].set_xlabel(\"Epochs\")\n",
        "ax[0].set_ylabel(\"Accuracy\")\n",
        "\n",
        "ax[1].plot(epochs , train_loss , 'bo-' , label = 'Training Loss')\n",
        "ax[1].plot(epochs , val_loss , 'go-' , label = 'Testing Loss')\n",
        "ax[1].set_title('Training & Testing Loss')\n",
        "ax[1].legend()\n",
        "ax[1].set_xlabel(\"Epochs\")\n",
        "ax[1].set_ylabel(\"Loss\")\n",
        "plt.show()"
      ],
      "execution_count": 45,
      "outputs": [
        {
          "output_type": "display_data",
          "data": {
            "image/png": "[encoded data removed]",
            "text/plain": [
              "<Figure size 1440x720 with 2 Axes>"
            ]
          },
          "metadata": {
            "tags": [],
            "needs_background": "light"
          }
        }
      ]
    },
    {
      "cell_type": "code",
      "metadata": {
        "id": "KkOCpFxBFEgB",
        "colab_type": "code",
        "colab": {
          "base_uri": "https://localhost:8080/",
          "height": 102
        },
        "outputId": "ae3cb4ff-a31b-4ad0-c203-5548923c9cf8"
      },
      "source": [
        "pred = model.predict_classes(X_test)\n",
        "pred[:5]"
      ],
      "execution_count": 41,
      "outputs": [
        {
          "output_type": "execute_result",
          "data": {
            "text/plain": [
              "array([[0],\n",
              "       [0],\n",
              "       [0],\n",
              "       [0],\n",
              "       [1]], dtype=int32)"
            ]
          },
          "metadata": {
            "tags": []
          },
          "execution_count": 41
        }
      ]
    },
    {
      "cell_type": "code",
      "metadata": {
        "id": "F0UH-soF_p1h",
        "colab_type": "code",
        "colab": {
          "base_uri": "https://localhost:8080/",
          "height": 51
        },
        "outputId": "822d3dc9-4761-49c1-db89-0a2b20bb51ac"
      },
      "source": [
        "cm = confusion_matrix(y_test,pred)\n",
        "cm"
      ],
      "execution_count": 42,
      "outputs": [
        {
          "output_type": "execute_result",
          "data": {
            "text/plain": [
              "array([[5849,    9],\n",
              "       [  10, 5357]])"
            ]
          },
          "metadata": {
            "tags": []
          },
          "execution_count": 42
        }
      ]
    },
    {
      "cell_type": "code",
      "metadata": {
        "id": "_PB5CqlpAbaX",
        "colab_type": "code",
        "colab": {}
      },
      "source": [
        "cm = pd.DataFrame(cm , index = ['Fake','Not Fake'] , columns = ['Fake','Not Fake'])"
      ],
      "execution_count": 43,
      "outputs": []
    },
    {
      "cell_type": "code",
      "metadata": {
        "id": "KVnktm1PAfNZ",
        "colab_type": "code",
        "colab": {
          "base_uri": "https://localhost:8080/",
          "height": 623
        },
        "outputId": "32da0311-31f3-4d8e-83dd-ba0db9c7dc61"
      },
      "source": [
        "plt.figure(figsize = (10,10))\n",
        "sns.heatmap(cm,cmap= \"Greens\", linecolor = 'black' , linewidth = 1 , annot = True, fmt='' , xticklabels = ['Fake','Not Fake'] , yticklabels = ['Fake','Not Fake'])\n",
        "plt.xlabel(\"Actual\")\n",
        "plt.ylabel(\"Predicted\")"
      ],
      "execution_count": 47,
      "outputs": [
        {
          "output_type": "execute_result",
          "data": {
            "text/plain": [
              "Text(69.0, 0.5, 'Predicted')"
            ]
          },
          "metadata": {
            "tags": []
          },
          "execution_count": 47
        },
        {
          "output_type": "display_data",
          "data": {
            "image/png": "[encoded data removed]",
            "text/plain": [
              "<Figure size 720x720 with 2 Axes>"
            ]
          },
          "metadata": {
            "tags": [],
            "needs_background": "light"
          }
        }
      ]
    }
  ]
}